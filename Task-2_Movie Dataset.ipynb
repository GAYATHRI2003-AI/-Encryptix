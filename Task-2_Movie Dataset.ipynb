{
 "cells": [
  {
   "cell_type": "code",
   "execution_count": 1,
   "metadata": {},
   "outputs": [
    {
     "name": "stdout",
     "output_type": "stream",
     "text": [
      "Mean Squared Error: 35050969.3490188\n"
     ]
    }
   ],
   "source": [
    "import pandas as pd\n",
    "from sklearn.model_selection import train_test_split\n",
    "from sklearn.linear_model import LinearRegression\n",
    "from sklearn.metrics import mean_squared_error\n",
    "\n",
    "# Load the dataset (replace file path with your dataset path)\n",
    "df = pd.read_csv(r\"D:\\Gayathri\\Bachelor's of Engineering\\Internship\\Excryptix\\IMDb Movies India.csv\",\n",
    "                 encoding='ISO-8859-1')\n",
    "\n",
    "# Remove extra parentheses from the 'Year' column\n",
    "df['Year'] = df['Year'].str.replace(r'\\(|\\)', '', regex=True)\n",
    "\n",
    "# Convert 'Year' column to numeric\n",
    "df['Year'] = pd.to_numeric(df['Year'], errors='coerce')\n",
    "\n",
    "# Remove 'min' from the 'Duration' column\n",
    "df['Duration'] = df['Duration'].str.replace('min', '', regex=False)\n",
    "\n",
    "# Convert 'Duration' column to numeric\n",
    "df['Duration'] = pd.to_numeric(df['Duration'], errors='coerce')\n",
    "\n",
    "# Remove commas from the 'Votes' column\n",
    "df['Votes'] = df['Votes'].str.replace(',', '', regex=False)\n",
    "\n",
    "# Convert 'Votes' column to numeric\n",
    "df['Votes'] = pd.to_numeric(df['Votes'], errors='coerce')\n",
    "\n",
    "# Drop rows with missing target 'Rating' values\n",
    "df = df.dropna(subset=['Rating'])\n",
    "\n",
    "# Fill missing numeric values for 'Duration' and 'Votes' with median values\n",
    "df['Duration'].fillna(df['Duration'].median(), inplace=True)\n",
    "df['Votes'].fillna(df['Votes'].median(), inplace=True)\n",
    "\n",
    "# Select features (X) and target variable (y)\n",
    "X = df[['Year', 'Duration', 'Genre', 'Votes', 'Director', 'Actor 1', 'Actor 2', 'Actor 3']]\n",
    "y = df['Rating']\n",
    "\n",
    "# Preprocess categorical features using one-hot encoding\n",
    "categorical_cols = ['Genre', 'Director', 'Actor 1', 'Actor 2', 'Actor 3']\n",
    "X = pd.get_dummies(X, columns=categorical_cols)\n",
    "\n",
    "# Split the data into training and testing sets\n",
    "X_train, X_test, y_train, y_test = train_test_split(X, y, test_size=0.2, random_state=42)\n",
    "\n",
    "# Fit the model\n",
    "model = LinearRegression()\n",
    "model.fit(X_train, y_train)\n",
    "\n",
    "# Predict and evaluate\n",
    "y_pred = model.predict(X_test)\n",
    "mse = mean_squared_error(y_test, y_pred)\n",
    "print(f'Mean Squared Error: {mse}')\n"
   ]
  }
 ],
 "metadata": {
  "kernelspec": {
   "display_name": "base",
   "language": "python",
   "name": "python3"
  },
  "language_info": {
   "codemirror_mode": {
    "name": "ipython",
    "version": 3
   },
   "file_extension": ".py",
   "mimetype": "text/x-python",
   "name": "python",
   "nbconvert_exporter": "python",
   "pygments_lexer": "ipython3",
   "version": "3.11.7"
  }
 },
 "nbformat": 4,
 "nbformat_minor": 2
}
